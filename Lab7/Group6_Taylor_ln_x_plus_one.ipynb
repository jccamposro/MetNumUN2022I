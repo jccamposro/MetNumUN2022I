{
  "nbformat": 4,
  "nbformat_minor": 0,
  "metadata": {
    "colab": {
      "provenance": [],
      "include_colab_link": true
    },
    "kernelspec": {
      "name": "python3",
      "display_name": "Python 3"
    },
    "language_info": {
      "name": "python"
    }
  },
  "cells": [
    {
      "cell_type": "markdown",
      "metadata": {
        "id": "view-in-github",
        "colab_type": "text"
      },
      "source": [
        "<a href=\"https://colab.research.google.com/github/jccamposro/MetNumUN2022II/blob/main/Lab7/Group6_Taylor_ln_x_plus_one.ipynb\" target=\"_parent\"><img src=\"https://colab.research.google.com/assets/colab-badge.svg\" alt=\"Open In Colab\"/></a>"
      ]
    },
    {
      "cell_type": "markdown",
      "metadata": {
        "id": "ZuGY2wUTjFDm"
      },
      "source": [
        "# Taylor series of $ln(x+1)$\n",
        "\n",
        "$$ \n",
        "\\begin{array}{lll}\n",
        "ln(x+1)  & =  & \\sum_{i=1}^{\\infty} {-1^{n+1}} * \\frac{x^i}{i} \\\\\n",
        "        & = & 1 + -x + \\frac{x^2}{2} + -\\frac{x^3}{3} +\\cdots+ -1^{n+1}\\frac{x^n}{n} + \\cdots  \\\\\n",
        "       & = & 1 + -x + \\frac{x^2}{2} +  -\\frac{x^3}{3}  \\cdots+ -1^{n+1} \\frac{x^n}{n} + O(x^{n+1}) \n",
        "\\end{array} \n",
        "$$\n",
        "\n",
        "\n",
        "Approximation \n",
        "$$ ln(x+1)  \\approx 1 + -x + \\frac{x^2}{2} +  -\\frac{x^3}{3}  \\cdots+ -1^{n+1} \\frac{x^n}{n}$$\n"
      ]
    },
    {
      "cell_type": "markdown",
      "source": [
        "Interact code in Sagemath for $ln(x+1)$\n",
        "\n",
        "```python\n",
        "# Interact Taylor Series of $$f(x) = ln(x+1)$$\n",
        "# Explanatory example: Taylor Series – wiki.sagemath.org/interact https://wiki.sagemath.org/interact\n",
        "x   = SR.var('x')\n",
        "x0  = 0\n",
        "f   = ln(x+1)\n",
        "p   = plot(f, -20, 20, thickness=2)\n",
        "dot = point((x0, f(x=x0)), pointsize=80, rgbcolor=(1, 0, 0))\n",
        "\n",
        "@interact\n",
        "def _(order=slider([0 .. 12])):\n",
        "  ft = f.taylor(x, x0, order)\n",
        "  pt = plot(ft, -20, 20, color='green', thickness=2)\n",
        "  pretty_print(html(r'$f(x)\\;=\\;%s$' % latex(f)))\n",
        "  pretty_print(html(r'$\\hat{f}(x;%s)\\;=\\;%s+\\mathcal{O}(x^{%s})$' % (x0, latex(ft), order+1)))\n",
        "  show(dot + p + pt, ymin=-1, ymax=10)\n",
        "```"
      ],
      "metadata": {
        "id": "eFh_HdXmjdfu"
      }
    },
    {
      "cell_type": "markdown",
      "source": [
        "Animate code in Sagemath for $ln(x+1)$\n",
        "```python\n",
        "# Animate  Taylor Series of $$f(x) = e^x$$\n",
        "# MCS 320: Introduction to Symbolic Computation - Jan Verschelde, Mathematics, U. Illinois at Chicago  –\n",
        "# http://homepages.math.uic.edu/~jan/mcs320/mcs320notes/lec27.html#\n",
        "x   = SR.var('x')\n",
        "x0  = 0\n",
        "f   = ln(x+1)\n",
        "p   = plot(f, -3, 3, thickness=2,legend_label='f(x) = ln(x+1)')\n",
        "dot = point((x0, f(x=x0)), pointsize=80, rgbcolor=(1, 0, 0))\n",
        "ptaylor = [plot(f.taylor(x, x0, order), -3,3, color='green', thickness=2, legend_label= \"Taylor \" + str(order) +\": \"+ str(f.taylor(x, x0, order))) for order in range(5)]\n",
        "\n",
        "frames = [p+dot+ptaylor[int(order/12)] for order in range(60)]\n",
        "a = animate(frames, ymin=-10, ymax=10)\n",
        "a.show()\n",
        "a.save('ln_x_plus_1_taylor_animation_1.gif')\n",
        "```"
      ],
      "metadata": {
        "id": "y90QDm3UkzaF"
      }
    },
    {
      "cell_type": "markdown",
      "source": [
        "![image.png](data:image/png;base64,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)"
      ],
      "metadata": {
        "id": "c_Hz3jQijj8H"
      }
    },
    {
      "cell_type": "markdown",
      "source": [
        "![image.png](data:image/png;base64,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)"
      ],
      "metadata": {
        "id": "kA8WCKeNjCTK"
      }
    },
    {
      "cell_type": "markdown",
      "metadata": {
        "id": "qylNUuxmQUzq"
      },
      "source": [
        "#What is value of the partial Taylor series of $ln(x+1)$ up to the  $10$-th term of $ln(x+1)$ about $0$ (Maclaurin  series) for $x=2$\n",
        "\n",
        "$$ ln(x+1) =  1 + -x + \\frac{x^2}{2} + -\\frac{x^3}{3} +\\cdots+ -1^{n+1}\\frac{x^n}{n} $$"
      ]
    },
    {
      "cell_type": "code",
      "metadata": {
        "colab": {
          "base_uri": "https://localhost:8080/"
        },
        "id": "UZyEw-hiQNU7",
        "outputId": "2f048155-604a-4b07-e742-c010bfbb4feb"
      },
      "source": [
        "# ∑_{i=0}^n  x^i/i\n",
        "import numpy as np\n",
        "import math\n",
        "\n",
        "n = 10\n",
        "x = 2\n",
        "ln_x = 0\n",
        "for i in range(1,n+1):\n",
        "    ln_x += ((-1)**(i-1))*(x**i/(i))\n",
        "    print(i, 'ln_x ≈ ∑_{i=1}^'+str(i),'[(-1)^('+str(i)+'-1)][(x^'+str(i)+'/'+str(i)+')] =',ln_x)   \n",
        "print('ln(x+1) = ',np.log(x+1))"
      ],
      "execution_count": null,
      "outputs": [
        {
          "output_type": "stream",
          "name": "stdout",
          "text": [
            "1 ln_x ≈ ∑_{i=1}^1 [(-1)^(1-1)][(x^1/1)] = 2.0\n",
            "2 ln_x ≈ ∑_{i=1}^2 [(-1)^(2-1)][(x^2/2)] = 0.0\n",
            "3 ln_x ≈ ∑_{i=1}^3 [(-1)^(3-1)][(x^3/3)] = 2.6666666666666665\n",
            "4 ln_x ≈ ∑_{i=1}^4 [(-1)^(4-1)][(x^4/4)] = -1.3333333333333335\n",
            "5 ln_x ≈ ∑_{i=1}^5 [(-1)^(5-1)][(x^5/5)] = 5.066666666666666\n",
            "6 ln_x ≈ ∑_{i=1}^6 [(-1)^(6-1)][(x^6/6)] = -5.6\n",
            "7 ln_x ≈ ∑_{i=1}^7 [(-1)^(7-1)][(x^7/7)] = 12.685714285714285\n",
            "8 ln_x ≈ ∑_{i=1}^8 [(-1)^(8-1)][(x^8/8)] = -19.314285714285717\n",
            "9 ln_x ≈ ∑_{i=1}^9 [(-1)^(9-1)][(x^9/9)] = 37.57460317460317\n",
            "10 ln_x ≈ ∑_{i=1}^10 [(-1)^(10-1)][(x^10/10)] = -64.82539682539684\n",
            "ln(x+1) =  1.0986122886681098\n"
          ]
        }
      ]
    },
    {
      "cell_type": "markdown",
      "source": [
        "# What is the minimun $n$ for which the error between the Taylor series for $ln(x+1)$ about $0$ (Maclaurin  series) for $x$ and *math.log(x)*, is in absolute value less than  $\\epsilon$.\n",
        "\n",
        "$$\\min_{n \\in \\mathbb{N}}\\left|\\sum_{n=1}^{\\infty} (-1)^{n+1} \\cdot  \\frac{x^n}{n} - np.log(x+1) \\right| < \\epsilon$$"
      ],
      "metadata": {
        "id": "EQulygu91CbA"
      }
    },
    {
      "cell_type": "code",
      "metadata": {
        "colab": {
          "base_uri": "https://localhost:8080/"
        },
        "id": "EfkY5SM7pZBL",
        "outputId": "f3bd7a4a-643b-4c29-ec7d-3484c4861dc4"
      },
      "source": [
        "# Returns Min n, |∑_{i=1}^{n}  x^i/i! - math.exp(x)| < epsilon and ∑_{i=0}^{n} x^i/i!   \n",
        "import math\n",
        "import numpy as np\n",
        "x = 0.2\n",
        "epsilon = 10**(-5)\n",
        "ln_x = 0\n",
        "print(\"n\".rjust(10),\" \",\"ln_x ≈ ∑_{i=1}^n (-1)^n+1*x^i/i \".center(21),\" \",\"delta =(-1)^n+1*x^i/i  \".center(21),\" \",\"error\".center(14),\" \",\"epsilon\".center(20))\n",
        "error = 1\n",
        "i = 1\n",
        "while  epsilon <= error:\n",
        "  delta = ((-1)**(i+1))*(x**i/(i))\n",
        "  ln_x += delta\n",
        "  error = abs(np.log(x+1) - ln_x)\n",
        "  print(format(i, '10'),\"  \", format(ln_x, '.10f'),\"  \",format(delta, '.10f'),\" \",format(error, '.10f'),\"  \",\"{:.0e}\".format(epsilon)) \n",
        "  i = i+1\n",
        "\n",
        "print(\"n =\",i-1) \n",
        "print(\"x =\",x) \n",
        "print('ln_x ≈ ∑_{i=1}^'+str(i-1),'(-1)^n+1*x^i/i =',ln_x)  \n",
        "print(\"epsilon =\",\"{:.0e}\".format(epsilon)) \n",
        "print('np.log(x+1) = ',np.log(x+1))"
      ],
      "execution_count": null,
      "outputs": [
        {
          "output_type": "stream",
          "name": "stdout",
          "text": [
            "         n   ln_x ≈ ∑_{i=1}^n (-1)^n+1*x^i/i    delta =(-1)^n+1*x^i/i         error              epsilon       \n",
            "         1    0.2000000000    0.2000000000   0.0176784432    1e-05\n",
            "         2    0.1800000000    -0.0200000000   0.0023215568    1e-05\n",
            "         3    0.1826666667    0.0026666667   0.0003451099    1e-05\n",
            "         4    0.1822666667    -0.0004000000   0.0000548901    1e-05\n",
            "         5    0.1823306667    0.0000640000   0.0000091099    1e-05\n",
            "n = 5\n",
            "x = 0.2\n",
            "ln_x ≈ ∑_{i=1}^5 (-1)^n+1*x^i/i = 0.18233066666666667\n",
            "epsilon = 1e-05\n",
            "np.log(x+1) =  0.1823215567939546\n"
          ]
        }
      ]
    },
    {
      "cell_type": "code",
      "source": [
        "# Returns Min n, |∑_{i=1}^{n}  x^i/i! - math.exp(x)| < epsilon and ∑_{i=0}^{n} x^i/i!   \n",
        "import numpy as np\n",
        "import math\n",
        "\n",
        "x = -4\n",
        "epsilon = 10**(-5)\n",
        "\n",
        "e_to_x = 0\n",
        "\n",
        "print(\"n\".rjust(10),\" \",\"∑_{i=0}^n x^i/i!\".center(21),\" \",\"delta =x^i/i! \".center(21),\" \",\"error\".center(14),\" \",\"epsilon\".center(20))\n",
        "error = 1\n",
        "i = 0\n",
        "while  epsilon <= error:\n",
        "  delta =  x**i / math.factorial(i) \n",
        "  e_to_x += delta\n",
        "  error = abs(math.exp(x) - e_to_x)\n",
        "  print(format(i, '10'),\"  \", format(e_to_x, '.18f'),\"  \",format(delta, '.17f'),\" \",format(error, '.17f'),\"  \",\"{:.0e}\".format(epsilon)) \n",
        "  i = i+1\n",
        "\n",
        "\n",
        "print(\"n =\",i-1) \n",
        "print(\"x =\",x) \n",
        "print('e_to_x ≈ ∑_{i=0}^'+str(i-1),'x^i/i! =',e_to_x)  \n",
        "print(\"epsilon =\",\"{:.0e}\".format(epsilon)) \n",
        "print('math.exp(x) = ',math.exp(x))"
      ],
      "metadata": {
        "colab": {
          "base_uri": "https://localhost:8080/"
        },
        "id": "3Pn3ahtECboG",
        "outputId": "518ac7d2-21a0-4dca-dcb5-3d68a39d2f17"
      },
      "execution_count": null,
      "outputs": [
        {
          "output_type": "stream",
          "name": "stdout",
          "text": [
            "         n   ln_x ≈ ∑_{i=1}^n (-1)^n+1*x^i/i    delta =(-1)^n+1*x^i/i         error              epsilon       \n",
            "         1    -0.2000000000    -0.2000000000   0.0231435513    1e-05\n",
            "         2    -0.2200000000    -0.0200000000   0.0031435513    1e-05\n",
            "         3    -0.2226666667    -0.0026666667   0.0004768846    1e-05\n",
            "         4    -0.2230666667    -0.0004000000   0.0000768846    1e-05\n",
            "         5    -0.2231306667    -0.0000640000   0.0000128846    1e-05\n",
            "         6    -0.2231413333    -0.0000106667   0.0000022180    1e-05\n",
            "n = 6\n",
            "x = -0.2\n",
            "ln_x ≈ ∑_{i=1}^6 (-1)^n+1*x^i/i = -0.22314133333333339\n",
            "epsilon = 1e-05\n",
            "np.log(x+1) =  -0.2231435513142097\n"
          ]
        }
      ]
    },
    {
      "cell_type": "markdown",
      "metadata": {
        "id": "ZlcF8gIdjZ6t"
      },
      "source": [
        "# What is the minimun $n$ for which the $n$-th term of the Taylor series for $ln(x+1)$ about $0$ (Maclaurin  series) for $x$, is in absolute value less than  $\\epsilon$.\n",
        "\n",
        "$$\\min_{n \\in \\mathbb{N}}\\left|\\frac{x^{n}}{n}\\right| < \\epsilon$$"
      ]
    },
    {
      "cell_type": "code",
      "metadata": {
        "id": "_8y-XrmvcCLf",
        "colab": {
          "base_uri": "https://localhost:8080/"
        },
        "outputId": "3b36e6e0-a6ec-4f36-ff67-a8150ca52b08"
      },
      "source": [
        "# Returns Min n, |x^{n}/n!| < epsilon and ∑_{i=0}^{n} x^i/i!\n",
        "import math\n",
        "\n",
        "x = 0.2\n",
        "epsilon = 10**(-5)\n",
        "\n",
        "ln_x = 0\n",
        "\n",
        "delta = 1\n",
        "i = 1\n",
        "print(\"n\".rjust(10),\" \",\"∑_{i=0}^n x^i/i!\".center(20),\" \",\" delta=x^n/n!\".center(20),\" \",\"epsilon\".center(9))\n",
        "while  epsilon <= abs(delta):\n",
        "  delta = ((-1)**(i+1))*(x**i/(i))\n",
        "  ln_x += delta\n",
        "  print(format(i, '10'),\"  \", format(ln_x, '.17f'),\"  \",format(delta, '.17f'),\"  \",\"{:.0e}\".format(epsilon)) \n",
        "  i = i+1\n",
        "\n",
        "print(\"n =\",i-1) \n",
        "print(\"x =\",x) \n",
        "print('ln_x ≈ ∑_{i=1}^'+str(i-1),'(-1)^n+1*x^i/i =',ln_x)  \n",
        "print(\"epsilon =\",\"{:.0e}\".format(epsilon)) \n",
        "print('np.log(x+1) = ',np.log(x+1))"
      ],
      "execution_count": null,
      "outputs": [
        {
          "output_type": "stream",
          "name": "stdout",
          "text": [
            "         n     ∑_{i=0}^n x^i/i!         delta=x^n/n!        epsilon \n",
            "         1    0.20000000000000001    0.20000000000000001    1e-05\n",
            "         2    0.17999999999999999    -0.02000000000000000    1e-05\n",
            "         3    0.18266666666666667    0.00266666666666667    1e-05\n",
            "         4    0.18226666666666666    -0.00040000000000000    1e-05\n",
            "         5    0.18233066666666667    0.00006400000000000    1e-05\n",
            "         6    0.18232000000000001    -0.00001066666666667    1e-05\n",
            "         7    0.18232182857142859    0.00000182857142857    1e-05\n",
            "n = 7\n",
            "x = 0.2\n",
            "ln_x ≈ ∑_{i=1}^7 (-1)^n+1*x^i/i = 0.1823218285714286\n",
            "epsilon = 1e-05\n",
            "np.log(x+1) =  0.1823215567939546\n"
          ]
        }
      ]
    },
    {
      "cell_type": "code",
      "source": [
        "x = -0.2\n",
        "epsilon = 10**(-5)\n",
        "\n",
        "ln_x = 0\n",
        "\n",
        "delta = 1\n",
        "i = 1\n",
        "print(\"n\".rjust(10),\" \",\"∑_{i=0}^n x^i/i!\".center(20),\" \",\" delta=x^n/n!\".center(20),\" \",\"epsilon\".center(9))\n",
        "while  epsilon <= abs(delta):\n",
        "  delta = ((-1)**(i+1))*(x**i/(i))\n",
        "  ln_x += delta\n",
        "  print(format(i, '10'),\"  \", format(ln_x, '.17f'),\"  \",format(delta, '.17f'),\"  \",\"{:.0e}\".format(epsilon)) \n",
        "  i = i+1\n",
        "\n",
        "print(\"n =\",i-1) \n",
        "print(\"x =\",x) \n",
        "print('ln_x ≈ ∑_{i=1}^'+str(i-1),'(-1)^n+1*x^i/i =',ln_x)  \n",
        "print(\"epsilon =\",\"{:.0e}\".format(epsilon)) \n",
        "print('np.log(x+1) = ',np.log(x+1))"
      ],
      "metadata": {
        "colab": {
          "base_uri": "https://localhost:8080/"
        },
        "id": "vyVd_O6NqE59",
        "outputId": "0748667b-d20a-4f04-9afe-ffc51015b158"
      },
      "execution_count": null,
      "outputs": [
        {
          "output_type": "stream",
          "name": "stdout",
          "text": [
            "         n     ∑_{i=0}^n x^i/i!         delta=x^n/n!        epsilon \n",
            "         1    -0.20000000000000001    -0.20000000000000001    1e-05\n",
            "         2    -0.22000000000000003    -0.02000000000000000    1e-05\n",
            "         3    -0.22266666666666671    -0.00266666666666667    1e-05\n",
            "         4    -0.22306666666666672    -0.00040000000000000    1e-05\n",
            "         5    -0.22313066666666673    -0.00006400000000000    1e-05\n",
            "         6    -0.22314133333333339    -0.00001066666666667    1e-05\n",
            "         7    -0.22314316190476197    -0.00000182857142857    1e-05\n",
            "n = 7\n",
            "x = -0.2\n",
            "ln_x ≈ ∑_{i=1}^7 (-1)^n+1*x^i/i = -0.22314316190476197\n",
            "epsilon = 1e-05\n",
            "np.log(x+1) =  -0.2231435513142097\n"
          ]
        }
      ]
    },
    {
      "cell_type": "code",
      "source": [
        "x = 0.6\n",
        "epsilon = 10**(-5)\n",
        "\n",
        "ln_x = 0\n",
        "\n",
        "delta = 1\n",
        "i = 1\n",
        "print(\"n\".rjust(10),\" \",\"∑_{i=0}^n x^i/i!\".center(20),\" \",\" delta=x^n/n!\".center(20),\" \",\"epsilon\".center(9))\n",
        "while  epsilon <= abs(delta):\n",
        "  delta = ((-1)**(i+1))*(x**i/(i))\n",
        "  ln_x += delta\n",
        "  print(format(i, '10'),\"  \", format(ln_x, '.17f'),\"  \",format(delta, '.17f'),\"  \",\"{:.0e}\".format(epsilon)) \n",
        "  i = i+1\n",
        "\n",
        "print(\"n =\",i-1) \n",
        "print(\"x =\",x) \n",
        "print('ln_x ≈ ∑_{i=1}^'+str(i-1),'(-1)^n+1*x^i/i =',ln_x)  \n",
        "print(\"epsilon =\",\"{:.0e}\".format(epsilon)) \n",
        "print('np.log(x+1) = ',np.log(x+1))"
      ],
      "metadata": {
        "colab": {
          "base_uri": "https://localhost:8080/"
        },
        "id": "FRqWP3cZqFQs",
        "outputId": "2e6aa655-038f-4f50-c871-0ed37a88e9be"
      },
      "execution_count": null,
      "outputs": [
        {
          "output_type": "stream",
          "name": "stdout",
          "text": [
            "         n     ∑_{i=0}^n x^i/i!         delta=x^n/n!        epsilon \n",
            "         1    0.59999999999999998    0.59999999999999998    1e-05\n",
            "         2    0.41999999999999998    -0.17999999999999999    1e-05\n",
            "         3    0.49199999999999999    0.07199999999999999    1e-05\n",
            "         4    0.45960000000000001    -0.03240000000000000    1e-05\n",
            "         5    0.47515200000000002    0.01555200000000000    1e-05\n",
            "         6    0.46737600000000001    -0.00777600000000000    1e-05\n",
            "         7    0.47137508571428571    0.00399908571428571    1e-05\n",
            "         8    0.46927556571428569    -0.00209952000000000    1e-05\n",
            "         9    0.47039530971428567    0.00111974400000000    1e-05\n",
            "        10    0.46979064795428566    -0.00060466176000000    1e-05\n",
            "        11    0.47012046345974018    0.00032981550545455    1e-05\n",
            "        12    0.46993906493174020    -0.00018139852800000    1e-05\n",
            "        13    0.47003953180878638    0.00010046687704615    1e-05\n",
            "        14    0.46998355740586067    -0.00005597440292571    1e-05\n",
            "        15    0.47001490307149907    0.00003134566563840    1e-05\n",
            "        16    0.46999727113457745    -0.00001763193692160    1e-05\n",
            "        17    0.47000722799307437    0.00000995685849690    1e-05\n",
            "n = 17\n",
            "x = 0.6\n",
            "ln_x ≈ ∑_{i=1}^17 (-1)^n+1*x^i/i = 0.4700072279930744\n",
            "epsilon = 1e-05\n",
            "np.log(x+1) =  0.47000362924573563\n"
          ]
        }
      ]
    },
    {
      "cell_type": "code",
      "source": [
        "x = -0.6\n",
        "epsilon = 10**(-5)\n",
        "\n",
        "ln_x = 0\n",
        "\n",
        "delta = 1\n",
        "i = 1\n",
        "print(\"n\".rjust(10),\" \",\"∑_{i=0}^n x^i/i!\".center(20),\" \",\" delta=x^n/n!\".center(20),\" \",\"epsilon\".center(9))\n",
        "while  epsilon <= abs(delta):\n",
        "  delta = ((-1)**(i+1))*(x**i/(i))\n",
        "  ln_x += delta\n",
        "  print(format(i, '10'),\"  \", format(ln_x, '.17f'),\"  \",format(delta, '.17f'),\"  \",\"{:.0e}\".format(epsilon)) \n",
        "  i = i+1\n",
        "\n",
        "print(\"n =\",i-1) \n",
        "print(\"x =\",x) \n",
        "print('ln_x ≈ ∑_{i=1}^'+str(i-1),'(-1)^n+1*x^i/i =',ln_x)  \n",
        "print(\"epsilon =\",\"{:.0e}\".format(epsilon)) \n",
        "print('np.log(x+1) = ',np.log(x+1))"
      ],
      "metadata": {
        "colab": {
          "base_uri": "https://localhost:8080/"
        },
        "id": "u-tFg3ycqQ5U",
        "outputId": "561ae9a7-56a4-45f0-d531-9b234ef1ec7b"
      },
      "execution_count": null,
      "outputs": [
        {
          "output_type": "stream",
          "name": "stdout",
          "text": [
            "         n     ∑_{i=0}^n x^i/i!         delta=x^n/n!        epsilon \n",
            "         1    -0.59999999999999998    -0.59999999999999998    1e-05\n",
            "         2    -0.78000000000000003    -0.17999999999999999    1e-05\n",
            "         3    -0.85199999999999998    -0.07199999999999999    1e-05\n",
            "         4    -0.88439999999999996    -0.03240000000000000    1e-05\n",
            "         5    -0.89995199999999997    -0.01555200000000000    1e-05\n",
            "         6    -0.90772799999999998    -0.00777600000000000    1e-05\n",
            "         7    -0.91172708571428573    -0.00399908571428571    1e-05\n",
            "         8    -0.91382660571428576    -0.00209952000000000    1e-05\n",
            "         9    -0.91494634971428579    -0.00111974400000000    1e-05\n",
            "        10    -0.91555101147428575    -0.00060466176000000    1e-05\n",
            "        11    -0.91588082697974027    -0.00032981550545455    1e-05\n",
            "        12    -0.91606222550774030    -0.00018139852800000    1e-05\n",
            "        13    -0.91616269238478643    -0.00010046687704615    1e-05\n",
            "        14    -0.91621866678771213    -0.00005597440292571    1e-05\n",
            "        15    -0.91625001245335058    -0.00003134566563840    1e-05\n",
            "        16    -0.91626764439027220    -0.00001763193692160    1e-05\n",
            "        17    -0.91627760124876911    -0.00000995685849690    1e-05\n",
            "n = 17\n",
            "x = -0.6\n",
            "ln_x ≈ ∑_{i=1}^17 (-1)^n+1*x^i/i = -0.9162776012487691\n",
            "epsilon = 1e-05\n",
            "np.log(x+1) =  -0.916290731874155\n"
          ]
        }
      ]
    }
  ]
}